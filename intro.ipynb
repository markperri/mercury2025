{
 "cells": [
  {
   "cell_type": "markdown",
   "id": "7cd53498-da36-476b-bc43-6ad031141f9b",
   "metadata": {},
   "source": [
    "## Python Review"
   ]
  },
  {
   "cell_type": "code",
   "execution_count": null,
   "id": "85557315-1864-48b5-abe2-e3f4db51fc82",
   "metadata": {},
   "outputs": [],
   "source": [
    "import matplotlib.pyplot as plt\n",
    "import numpy as np\n",
    "from chemcompute import chemcompute"
   ]
  }
 ],
 "metadata": {
  "kernelspec": {
   "display_name": "Python 3 (ipykernel)",
   "language": "python",
   "name": "python3"
  },
  "language_info": {
   "codemirror_mode": {
    "name": "ipython",
    "version": 3
   },
   "file_extension": ".py",
   "mimetype": "text/x-python",
   "name": "python",
   "nbconvert_exporter": "python",
   "pygments_lexer": "ipython3",
   "version": "3.11.9"
  }
 },
 "nbformat": 4,
 "nbformat_minor": 5
}
