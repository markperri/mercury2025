{
 "cells": [
  {
   "cell_type": "markdown",
   "id": "7cd53498-da36-476b-bc43-6ad031141f9b",
   "metadata": {},
   "source": [
    "## Python Review"
   ]
  },
  {
   "cell_type": "code",
   "execution_count": null,
   "id": "85557315-1864-48b5-abe2-e3f4db51fc82",
   "metadata": {},
   "outputs": [],
   "source": [
    "import matplotlib.pyplot as plt\n",
    "import numpy as np"
   ]
  },
  {
   "cell_type": "markdown",
   "id": "2bbe5a6d-c1e4-430c-906c-2787838bc4a4",
   "metadata": {},
   "source": [
    "## Assigning variables and doing calculations"
   ]
  },
  {
   "cell_type": "code",
   "execution_count": null,
   "id": "9e7b1838-d589-4278-b21d-9888b2375cce",
   "metadata": {},
   "outputs": [],
   "source": [
    "deltaH = -541.5   #kJ/mole\n",
    "deltaS =  10.4     #kJ/(mole K)\n",
    "temp = 298      #Kelvin\n",
    "deltaG = deltaH - temp * deltaS"
   ]
  },
  {
   "cell_type": "code",
   "execution_count": null,
   "id": "ee7ab0d8-f1de-4d3f-95f9-1a9ea57dad07",
   "metadata": {},
   "outputs": [],
   "source": [
    "print(deltaG)"
   ]
  },
  {
   "cell_type": "code",
   "execution_count": null,
   "id": "7896f657-4511-43b3-9fa0-266b70eae27c",
   "metadata": {},
   "outputs": [],
   "source": [
    "# F-string printing\n",
    "print(F'The value of free energy is {deltaG:.4f} in kJ/mole.')"
   ]
  },
  {
   "cell_type": "markdown",
   "id": "34641a96-bd45-40e0-9fcf-f182e74b3f17",
   "metadata": {},
   "source": [
    "Exercise: The potential energy of a bond can be described by the equation\n",
    "$$ V = \\frac{1}{2} k (r - r_e) ^2 $$\n",
    "where r is the bond length, re is the equilibrium bond length, and k is a constant for that type of bond.  Suppose for a particular bond, k is equal 14.1 and the equilibrium bond length is 109 pm.  Calculate potential energy a bond that is stretched to 112 pm.\n"
   ]
  },
  {
   "cell_type": "code",
   "execution_count": null,
   "id": "a08619e9-5663-41cd-acb2-34ed7b76f165",
   "metadata": {},
   "outputs": [],
   "source": [
    "r = 112\n",
    "re = 109  \n",
    "k = 14.1      \n",
    "V = 0.5*k*(r-re)**2\n",
    "print(V)"
   ]
  },
  {
   "cell_type": "markdown",
   "id": "5a328d9a-c575-4d84-81ee-3242cfc16d51",
   "metadata": {},
   "source": [
    "## Writing functions"
   ]
  },
  {
   "cell_type": "code",
   "execution_count": null,
   "id": "0ffaadc2-ca8c-4d64-a717-3c86240a3919",
   "metadata": {},
   "outputs": [],
   "source": [
    "def calculate_PE(bond_length, equilibrium, force_constant):\n",
    "    PE = 0.5*force_constant*(bond_length - equilibrium)**2\n",
    "    return PE"
   ]
  },
  {
   "cell_type": "code",
   "execution_count": null,
   "id": "fdb9129b-27fa-4806-81fc-8c2e9ee91e73",
   "metadata": {},
   "outputs": [],
   "source": [
    "#Always test your function with a simple example\n",
    "r = 112\n",
    "re = 109\n",
    "k = 14.1\n",
    "potential_energy = calculate_PE(r, re, k)\n",
    "print(potential_energy)"
   ]
  },
  {
   "cell_type": "code",
   "execution_count": null,
   "id": "d297e435-d8e9-40ff-aaac-5b91e0c74cf4",
   "metadata": {},
   "outputs": [],
   "source": [
    "# Can even just type in your numbers, no variable setting\n",
    "pot_energy = calculate_PE(112, 109, 14.1)\n",
    "print(pot_energy)"
   ]
  },
  {
   "cell_type": "markdown",
   "id": "da58322d-d935-4b2f-8e13-97c92a0aaef0",
   "metadata": {},
   "source": [
    "## Doing an operation multiple times; for loops"
   ]
  },
  {
   "cell_type": "code",
   "execution_count": null,
   "id": "6aebc365-a75b-4409-bbb6-2aa880a97ee9",
   "metadata": {},
   "outputs": [],
   "source": [
    "# This is a list\n",
    "energy_kcal = [-13.4, -2.7, 5.4, 42.1]\n",
    "# I can determine its length\n",
    "energy_length = len(energy_kcal)\n",
    "\n",
    "# print the list length\n",
    "print('The length of this list is', energy_length)\n",
    "\n",
    "#print an element of the list\n",
    "print(energy_kcal[0])"
   ]
  },
  {
   "cell_type": "code",
   "execution_count": null,
   "id": "fcc98240-72a5-40b0-8e5a-276da6110ede",
   "metadata": {},
   "outputs": [],
   "source": [
    "# You can't do element by element math on a list\n",
    "# This gives an error\n",
    "energy_kJ = energy_kcal*4.184\n",
    "print(energy_kJ)"
   ]
  },
  {
   "cell_type": "code",
   "execution_count": null,
   "id": "f3b2161a-eb4b-4b2c-9f7a-29b3e198cb58",
   "metadata": {},
   "outputs": [],
   "source": [
    "# Use a for loop instead\n",
    "energy_kJ = []\n",
    "\n",
    "for number in energy_kcal:\n",
    "    kJ = number * 4.184\n",
    "    energy_kJ.append(kJ)\n",
    "\n",
    "print(energy_kJ)"
   ]
  },
  {
   "cell_type": "code",
   "execution_count": null,
   "id": "f361149b-fd30-46bb-a955-6b3aee542290",
   "metadata": {},
   "outputs": [],
   "source": [
    "# Exercise: Make a list of bond lengths from 105 to 115 pm \n",
    "# Use a for loop to calcuate the potential energy a bond where k=14.1 and re = 109\n",
    "# using the function we wrote above\n",
    "# Store your answer in a list called PEs"
   ]
  },
  {
   "cell_type": "code",
   "execution_count": null,
   "id": "15a4fa81-7453-41fe-80be-3e6d3500d995",
   "metadata": {},
   "outputs": [],
   "source": [
    "r_values = [105, 106, 107, 108, 109, 110, 111, 112, 113, 114, 115]\n",
    "PEs = []\n",
    "for value in r_values:\n",
    "    energy = calculate_PE(value, 109, 14.1)\n",
    "    PEs.append(energy)\n",
    "\n",
    "print(PEs)"
   ]
  },
  {
   "cell_type": "markdown",
   "id": "37482ac0-9be6-4e98-bcdb-a8bcf4002bde",
   "metadata": {},
   "source": [
    "## Numpy Arrays\n",
    "\n",
    "Numpy arrays have different features than ordinary python lists.  Significantly, element by element math, is possible for numpy arrays.  Consider the example above where we wanted to convert the list of energies in kcal to kJ.  If we recast the list to a numpy array, this now works."
   ]
  },
  {
   "cell_type": "code",
   "execution_count": null,
   "id": "7152c51a-a3f4-4ba9-b08a-350abe9dd97c",
   "metadata": {},
   "outputs": [],
   "source": [
    "# But wait, numpy arrays are different\n",
    "# Making energy_kcal into a numpy array\n",
    "energy_kcal = np.asarray(energy_kcal)\n",
    "\n",
    "# Now element by element multiplication works\n",
    "energy_kJ = energy_kcal*4184\n",
    "print(energy_kJ)\n"
   ]
  },
  {
   "cell_type": "markdown",
   "id": "604f0f93-8eef-4c1c-86e8-807f38384322",
   "metadata": {},
   "source": [
    "## Plotting"
   ]
  },
  {
   "cell_type": "code",
   "execution_count": null,
   "id": "4ab357a7-d411-4e82-b1cd-b95380ff894a",
   "metadata": {},
   "outputs": [],
   "source": [
    "import matplotlib.pyplot as plt"
   ]
  },
  {
   "cell_type": "code",
   "execution_count": null,
   "id": "0c7b5526-92ee-4578-b2c4-1f6622ecd525",
   "metadata": {},
   "outputs": [],
   "source": [
    "# Plotting the potential energy curve we calculated above\n",
    "plt.figure()\n",
    "plt.plot(r_values, PEs)\n",
    "plt.plot\n",
    "plt.xlabel('Bond length (pm)')\n",
    "plt.ylabel('Potential Energy')"
   ]
  },
  {
   "cell_type": "markdown",
   "id": "f3fa6fd5-7b8c-4f02-81a8-5ff277592739",
   "metadata": {},
   "source": [
    "### Exercise: Modeling the helium dimer with the Lennard-Jones potential \n",
    "\n",
    "\n",
    "The **Lennard-Jones potential** models the interaction between a pair of non-bonded neutral atoms or molecules. It captures the balance between attractive van der Waals forces and short-range repulsion:\n",
    "\n",
    "$$\n",
    "V(r) = 4\\varepsilon \\left[ \\left( \\frac{\\sigma}{r} \\right)^{12} - \\left( \\frac{\\sigma}{r} \\right)^6 \\right]\n",
    "$$\n",
    "\n",
    "Where:\n",
    "- $ V(r) $ is the potential energy as a function of internuclear distance \\( r \\),\n",
    "- $ \\varepsilon$ is the depth of the potential well (i.e., how strongly the two particles attract),\n",
    "- $ \\sigma $ is the distance at which the potential is zero (approximately the \"collision diameter\").\n",
    "\n",
    "For the helium dimer (He $ _2 $), the interaction is very weak and short-ranged.\n",
    "\n",
    "**Typical values for He–He interaction:**\n",
    "- $ \\varepsilon = 0.0103 $ eV\n",
    "- $ \\sigma = 2.64 $ Å\n",
    "\n",
    "---\n",
    "\n",
    "#### Instructions\n",
    "\n",
    "1. Define the Lennard-Jones potential function in Python.\n",
    "2. Create an array of internuclear distances $ r $ ranging from 2.5 Å to 6.0 Å.\n",
    "3. Calculate the potential energy $ V(r) $ for each value of $ r $.\n",
    "4. Plot the Lennard-Jones potential as a function of $ r $ using `matplotlib`.\n"
   ]
  },
  {
   "cell_type": "code",
   "execution_count": null,
   "id": "87d3a7ff-c8ed-4d9a-8046-f658c2852d0e",
   "metadata": {},
   "outputs": [],
   "source": [
    "# This is approximately the code I would expect students to write\n",
    "\n",
    "# Define Lennard-Jones potential\n",
    "def lennard_jones_potential(r, epsilon, sigma):\n",
    "    return 4 * epsilon * ((sigma / r)**12 - (sigma / r)**6)\n",
    "\n",
    "# Parameters for helium dimer (He2)\n",
    "# Lennard-Jones parameters\n",
    "epsilon = 0.0103  # eV\n",
    "sigma = 2.64      # Angstrom\n",
    "\n",
    "# Distance range (Angstroms)\n",
    "r = np.linspace(2.5, 6.0, 50)\n",
    "\n",
    "# Calculate potentials\n",
    "V_LJ = lennard_jones_potential(r, epsilon, sigma)\n",
    "\n",
    "plt.plot(r,V_LJ)"
   ]
  },
  {
   "cell_type": "code",
   "execution_count": null,
   "id": "f36789de-e870-4af0-b492-4d99f10a4e0a",
   "metadata": {},
   "outputs": [],
   "source": []
  }
 ],
 "metadata": {
  "kernelspec": {
   "display_name": "Python 3 (ipykernel)",
   "language": "python",
   "name": "python3"
  },
  "language_info": {
   "codemirror_mode": {
    "name": "ipython",
    "version": 3
   },
   "file_extension": ".py",
   "mimetype": "text/x-python",
   "name": "python",
   "nbconvert_exporter": "python",
   "pygments_lexer": "ipython3",
   "version": "3.11.9"
  }
 },
 "nbformat": 4,
 "nbformat_minor": 5
}
