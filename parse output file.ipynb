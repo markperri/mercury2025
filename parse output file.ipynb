{
 "cells": [
  {
   "cell_type": "code",
   "execution_count": null,
   "metadata": {},
   "outputs": [],
   "source": [
    "from chemcompute import chemcompute"
   ]
  },
  {
   "cell_type": "code",
   "execution_count": null,
   "metadata": {},
   "outputs": [],
   "source": [
    "job = chemcompute.download(1221668)"
   ]
  },
  {
   "cell_type": "code",
   "execution_count": null,
   "metadata": {},
   "outputs": [],
   "source": [
    "print (job)"
   ]
  },
  {
   "cell_type": "code",
   "execution_count": null,
   "metadata": {},
   "outputs": [],
   "source": [
    "from jupyter_jsmol import JsmolView\n",
    "view1 = JsmolView.from_file(job, inline=False) \n",
    "view1"
   ]
  },
  {
   "cell_type": "code",
   "execution_count": null,
   "metadata": {},
   "outputs": [],
   "source": [
    "data = chemcompute.parse(job)"
   ]
  },
  {
   "cell_type": "code",
   "execution_count": null,
   "metadata": {
    "scrolled": true
   },
   "outputs": [],
   "source": [
    "# how does energy change as geometry converges\n",
    "data.scfenergies"
   ]
  },
  {
   "cell_type": "code",
   "execution_count": null,
   "metadata": {},
   "outputs": [],
   "source": [
    "import numpy as np\n",
    "import matplotlib.pyplot as plt\n",
    "\n",
    "plt.plot(data.scfenergies)\n",
    "plt.xlabel(\"Step\")\n",
    "plt.ylabel(\"Energy / h\")\n",
    "plt.title(\"Geometry Optimization\")\n",
    "plt.grid(True)\n",
    "plt.show()\n"
   ]
  },
  {
   "cell_type": "code",
   "execution_count": null,
   "metadata": {
    "scrolled": false
   },
   "outputs": [],
   "source": [
    "# how do the atoms move as geometry converges\n",
    "data.atomcoords"
   ]
  },
  {
   "cell_type": "code",
   "execution_count": null,
   "metadata": {},
   "outputs": [],
   "source": [
    "# which atom is which\n",
    "# result:  atom 0: oxygen    atom 1: hydrogen    atom 2: hydrogen\n",
    "data.atomnos"
   ]
  },
  {
   "cell_type": "code",
   "execution_count": null,
   "metadata": {},
   "outputs": [],
   "source": [
    "# write a function to find the distance between two atoms\n",
    "def distance(atom1,atom2):\n",
    "    deltax = atom1[0] - atom2[0]\n",
    "    deltay = atom1[1] - atom2[1]\n",
    "    deltaz = atom1[2] - atom2[2]\n",
    "    d = (deltax**2 + deltay**2 + deltaz**2)**(0.5)\n",
    "    return d\n",
    "    "
   ]
  },
  {
   "cell_type": "code",
   "execution_count": null,
   "metadata": {},
   "outputs": [],
   "source": [
    "# how many geometry optimzation frames are there?  (includes starting geometry #0)\n",
    "len(data.atomcoords)"
   ]
  },
  {
   "cell_type": "code",
   "execution_count": null,
   "metadata": {},
   "outputs": [],
   "source": [
    "# distance between O and H in starting geometry\n",
    "frame = 0\n",
    "\n",
    "print (distance(data.atomcoords[frame][0], data.atomcoords[frame][1]))"
   ]
  },
  {
   "cell_type": "code",
   "execution_count": null,
   "metadata": {},
   "outputs": [],
   "source": [
    "# optimized O-H bond length\n",
    "frame = len(data.atomcoords)-1\n",
    "\n",
    "print (distance(data.atomcoords[frame][0], data.atomcoords[frame][1]))"
   ]
  },
  {
   "cell_type": "code",
   "execution_count": null,
   "metadata": {},
   "outputs": [],
   "source": [
    "# distance between O and H as the geometry converges\n",
    "OHdistances = []\n",
    "for frame in range(0,len(data.atomcoords)):\n",
    "    OHdistances.append(distance(data.atomcoords[frame][0], data.atomcoords[frame][1]))\n",
    "plt.plot(OHdistances)\n",
    "plt.xlabel(\"Step\")\n",
    "plt.ylabel(\"O-H distance / A\")\n",
    "plt.title(\"Geometry Optimization\")\n",
    "plt.grid(True)\n",
    "plt.show()"
   ]
  },
  {
   "cell_type": "code",
   "execution_count": null,
   "metadata": {},
   "outputs": [],
   "source": [
    "# compute angle between H-O-H using law of cosines\n",
    "from math import acos\n",
    "def angle(atom1,atom2,atom3):\n",
    "    a = distance(atom1,atom2)\n",
    "    b = distance(atom3,atom2)\n",
    "    c = distance(atom1,atom3)\n",
    "    \n",
    "    cosTheta = (a**2 + b**2 - c**2) / (2*a*b)\n",
    "    theta = acos(cosTheta)\n",
    "    return theta * 360 / (2*3.14159)\n",
    "    \n",
    "    "
   ]
  },
  {
   "cell_type": "code",
   "execution_count": null,
   "metadata": {},
   "outputs": [],
   "source": [
    "# calculate H-O-H bond bond angle (initial)\n",
    "# remember:  atom 0 is O, atom 1 is H, and atom 2 is H\n",
    "frame = 0\n",
    "angle(data.atomcoords[frame][1], data.atomcoords[frame][0], data.atomcoords[frame][2])"
   ]
  },
  {
   "cell_type": "code",
   "execution_count": null,
   "metadata": {
    "scrolled": false
   },
   "outputs": [],
   "source": [
    "# HOH bond angle as the geometry converges\n",
    "HOHangles = []\n",
    "for frame in range(0,len(data.atomcoords)):\n",
    "    HOHangles.append(angle(data.atomcoords[frame][1], data.atomcoords[frame][0], data.atomcoords[frame][2]))\n",
    "plt.plot(HOHangles)\n",
    "plt.xlabel(\"Step\")\n",
    "plt.ylabel(\"H-O-H bond angle / degrees\")\n",
    "plt.title(\"Geometry Optimization\")\n",
    "plt.grid(True)\n",
    "plt.show()"
   ]
  },
  {
   "cell_type": "code",
   "execution_count": null,
   "metadata": {},
   "outputs": [],
   "source": [
    "#enthalpy (hartree / particle)\n",
    "#units are here:  https://cclib.github.io/data.html\n",
    "print (data.enthalpy)\n"
   ]
  },
  {
   "cell_type": "code",
   "execution_count": null,
   "metadata": {},
   "outputs": [],
   "source": [
    "# convert to kJ / mol\n",
    "# 1 h = 2625.5 kJ/mol   https://cccbdb.nist.gov/hartreex.asp\n",
    "# remember this is not deltaHf, it's H\n",
    "print (f\"H = {round(data.enthalpy * 2625.5, 2)} kJ/mol\")"
   ]
  },
  {
   "cell_type": "code",
   "execution_count": null,
   "metadata": {},
   "outputs": [],
   "source": [
    "# IR frequencies (cm^-1)\n",
    "print (data.vibfreqs)\n",
    "# IR intensities (km / mol)\n",
    "print (data.vibirs)"
   ]
  },
  {
   "cell_type": "code",
   "execution_count": null,
   "metadata": {},
   "outputs": [],
   "source": [
    "# plot IR spectra (no linewidth from GAMESS, just infinitely thin lines)\n",
    "for i in range(len(data.vibfreqs)):\n",
    "    plt.vlines(data.vibfreqs[i],0,data.vibirs[i])\n"
   ]
  },
  {
   "cell_type": "code",
   "execution_count": null,
   "metadata": {},
   "outputs": [],
   "source": [
    "# animate vibrations\n",
    "view1.script(\"frame last; vibration on;\")\n",
    "# scroll up to the JSmol window"
   ]
  },
  {
   "cell_type": "code",
   "execution_count": null,
   "metadata": {},
   "outputs": [],
   "source": [
    "# molecular orbital energies\n",
    "print (data.moenergies[0])"
   ]
  },
  {
   "cell_type": "code",
   "execution_count": null,
   "metadata": {},
   "outputs": [],
   "source": [
    "for energy in data.moenergies[0]:\n",
    "    plt.hlines(energy, 0, 1)\n",
    "plt.title(\"MO Energy diagram\")\n",
    "plt.ylabel(\"MO Energy / h\")\n",
    "plt.xticks([])\n",
    "plt.show()\n",
    "    "
   ]
  },
  {
   "cell_type": "code",
   "execution_count": null,
   "metadata": {},
   "outputs": [],
   "source": []
  }
 ],
 "metadata": {
  "kernelspec": {
   "display_name": "Python 3 (ipykernel)",
   "language": "python",
   "name": "python3"
  },
  "language_info": {
   "codemirror_mode": {
    "name": "ipython",
    "version": 3
   },
   "file_extension": ".py",
   "mimetype": "text/x-python",
   "name": "python",
   "nbconvert_exporter": "python",
   "pygments_lexer": "ipython3",
   "version": "3.11.9"
  }
 },
 "nbformat": 4,
 "nbformat_minor": 2
}
