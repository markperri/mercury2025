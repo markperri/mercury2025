{
 "cells": [
  {
   "cell_type": "code",
   "execution_count": 1,
   "metadata": {},
   "outputs": [],
   "source": [
    "import numpy as np\n",
    "import matplotlib.pyplot as plt\n",
    "from chemcompute import chemcompute\n",
    "from jupyter_jsmol import JsmolView"
   ]
  },
  {
   "cell_type": "markdown",
   "metadata": {},
   "source": [
    "## Downloading an output file from ChemCompute\n",
    "\n",
    "There is a library called `cclib` which can be used to parse quantum chemistry output files.  We will download an output file from a water optimization calculation and parse it.  This will create a python data object.  We can then access different specific data using the attributes.  The list of properties you can access can be found in the cclib documentation at https://cclib.github.io/data.html.  In general to access one of the attributes the syntax is `data_object.attribute_name`."
   ]
  },
  {
   "cell_type": "code",
   "execution_count": 2,
   "metadata": {},
   "outputs": [
    {
     "name": "stdout",
     "output_type": "stream",
     "text": [
      "200\n",
      "Downloading 1221668.out\n"
     ]
    }
   ],
   "source": [
    "# This output is from a water optimization\n",
    "job = chemcompute.download(1221668)"
   ]
  },
  {
   "cell_type": "code",
   "execution_count": 3,
   "metadata": {
    "scrolled": true
   },
   "outputs": [],
   "source": [
    "# This didn't work\n",
    "view1 = JsmolView.from_file(job, inline=False) \n",
    "#view1"
   ]
  },
  {
   "cell_type": "code",
   "execution_count": 4,
   "metadata": {},
   "outputs": [],
   "source": [
    "# Parsing the output file\n",
    "data = chemcompute.parse(job)"
   ]
  },
  {
   "cell_type": "markdown",
   "metadata": {},
   "source": [
    "We can now access lots of different information from the data from the job output."
   ]
  },
  {
   "cell_type": "code",
   "execution_count": 5,
   "metadata": {
    "scrolled": true
   },
   "outputs": [
    {
     "name": "stdout",
     "output_type": "stream",
     "text": [
      "[-2077.48816879 -2078.15868367 -2078.14940048 -2078.16813887\n",
      " -2078.17207255 -2078.18320823 -2078.18323404 -2078.18242758\n",
      " -2078.18251867 -2078.18323406 -2078.18254805 -2078.18316184\n",
      " -2078.18323405 -2078.18309423 -2078.182612   -2078.18323404\n",
      " -2078.1824542  -2078.18254437 -2078.18323406 -2078.18251746\n",
      " -2078.1831632  -2078.18323405 -2078.18309881 -2078.18258552\n",
      " -2078.18323404]\n"
     ]
    }
   ],
   "source": [
    "# We can access the SCF energies.  \n",
    "scf_energies = data.scfenergies\n",
    "print(scf_energies)"
   ]
  },
  {
   "cell_type": "code",
   "execution_count": 6,
   "metadata": {},
   "outputs": [
    {
     "data": {
      "image/png": "[encoded data removed]",
      "text/plain": [
       "<Figure size 640x480 with 1 Axes>"
      ]
     },
     "metadata": {},
     "output_type": "display_data"
    }
   ],
   "source": [
    "plt.plot(scf_energies)\n",
    "plt.xlabel(\"Step\")\n",
    "plt.ylabel(\"Energy / h\")\n",
    "plt.title(\"Geometry Optimization\")\n",
    "plt.grid(True)\n",
    "plt.show()\n"
   ]
  },
  {
   "cell_type": "markdown",
   "metadata": {},
   "source": [
    "We can also look at the atomic coordinates as the geometry optimization converges."
   ]
  },
  {
   "cell_type": "code",
   "execution_count": 7,
   "metadata": {},
   "outputs": [
    {
     "name": "stdout",
     "output_type": "stream",
     "text": [
      "[[[ 0.          0.          0.        ]\n",
      "  [ 1.1         0.          0.        ]\n",
      "  [-0.37622     1.03366     0.        ]]\n",
      "\n",
      " [[ 0.01563611  0.0223293   0.        ]\n",
      "  [ 1.00228392  0.05178229 -0.        ]\n",
      "  [-0.29414003  0.95954841  0.        ]]\n",
      "\n",
      " [[-0.00489003 -0.00698492  0.        ]\n",
      "  [ 0.95962173  0.10349811 -0.        ]\n",
      "  [-0.2309517   0.93714681  0.        ]]\n",
      "\n",
      " [[ 0.01506005  0.0215058   0.        ]\n",
      "  [ 0.96553967  0.07812409 -0.        ]\n",
      "  [-0.25681971  0.93403011  0.        ]]\n",
      "\n",
      " [[ 0.01491664  0.02130125 -0.        ]\n",
      "  [ 0.9949604   0.057676   -0.        ]\n",
      "  [-0.28609703  0.95468274  0.        ]]\n",
      "\n",
      " [[ 0.011934    0.01704191 -0.        ]\n",
      "  [ 0.98014478  0.07122401 -0.        ]\n",
      "  [-0.26829878  0.94539408  0.        ]]\n",
      "\n",
      " [[ 0.01222008  0.01745013 -0.        ]\n",
      "  [ 0.97969688  0.07123326 -0.        ]\n",
      "  [-0.26813696  0.9449766   0.        ]]]\n"
     ]
    }
   ],
   "source": [
    "# how do the atoms move as geometry converges\n",
    "print(data.atomcoords)"
   ]
  },
  {
   "cell_type": "markdown",
   "metadata": {},
   "source": [
    "This is a data structure is a list of lists.  There is one set of coordinates for each frame.  Wihtin each frame there is a list of coordinates for each atom. We use square bracket notation to select particular frame number or a particular atom within a particular frame number. "
   ]
  },
  {
   "cell_type": "code",
   "execution_count": 8,
   "metadata": {},
   "outputs": [
    {
     "name": "stdout",
     "output_type": "stream",
     "text": [
      "The coordinates for the first frame:\n",
      "[[ 0.       0.       0.     ]\n",
      " [ 1.1      0.       0.     ]\n",
      " [-0.37622  1.03366  0.     ]]\n",
      "The coordinates for the first atom in the first frame\n",
      "[0. 0. 0.]\n"
     ]
    }
   ],
   "source": [
    "#Print the coordinates for the first frame of the optimization for all atoms\n",
    "print(f'The coordinates for the first frame:')\n",
    "print(data.atomcoords[0])\n",
    "\n",
    "#Print the coordinates for the first frame, first atom\n",
    "print(f'The coordinates for the first atom in the first frame')\n",
    "print(data.atomcoords[0][0])"
   ]
  },
  {
   "cell_type": "markdown",
   "metadata": {},
   "source": [
    "Looking at this list, we know water has three atoms, so we have three coordinates for each atom at each timestep.  But now we need to know which atom is which.  We can use the attribute `data.atomnos` which will give us an array of the atomic numbers of the atoms. "
   ]
  },
  {
   "cell_type": "code",
   "execution_count": 9,
   "metadata": {},
   "outputs": [
    {
     "data": {
      "text/plain": [
       "array([8, 1, 1], dtype=int32)"
      ]
     },
     "execution_count": 9,
     "metadata": {},
     "output_type": "execute_result"
    }
   ],
   "source": [
    "# which atom is which\n",
    "# result:  atom 0: oxygen    atom 1: hydrogen    atom 2: hydrogen\n",
    "data.atomnos"
   ]
  },
  {
   "cell_type": "markdown",
   "metadata": {},
   "source": [
    "So oxygen is atom 0, hydrogen is atom 1, and hydrogen is atom2."
   ]
  },
  {
   "cell_type": "markdown",
   "metadata": {},
   "source": [
    "### Exercise:  \n",
    "Use the square bracket notation shown above to select the coordinates for the oxygen (atom 0) at the beginning of the simluation and at the end of the simluation.  Calculate how much the oxygen atom moved over the course of the optimization.  You may need to recall that the distance formula is $ D = \\sqrt { \\left (x_1- x_2 \\right) ^ 2 + \\left (y_1- y _2 \\right) ^ 2 + \\left (z_1- z_2 \\right) ^ 2 } $\n",
    "\n",
    "The function in numpy to take the square root is `np.sqrt`."
   ]
  },
  {
   "cell_type": "code",
   "execution_count": 10,
   "metadata": {},
   "outputs": [
    {
     "name": "stdout",
     "output_type": "stream",
     "text": [
      "The starting position of the oxygen is [0. 0. 0.].  The final position for the oxygen is [ 0.01222008  0.01745013 -0.        ].\n",
      "The distance moved by the oxygen is 0.021303 angstroms.\n"
     ]
    }
   ],
   "source": [
    "# Your code goes here\n",
    "oxygen_start = data.atomcoords[0][0]\n",
    "oxygen_final = data.atomcoords[-1][0]\n",
    "print(f'The starting position of the oxygen is {oxygen_start}.  The final position for the oxygen is {oxygen_final}.')\n",
    "\n",
    "distance_o = np.sqrt((oxygen_final[0]-oxygen_start[0])**2 + (oxygen_final[1]-oxygen_start[1])**2 + (oxygen_final[2]-oxygen_start[2])**2)\n",
    "print(f'The distance moved by the oxygen is {distance_o:4f} angstroms.')"
   ]
  },
  {
   "cell_type": "markdown",
   "metadata": {},
   "source": [
    "### Exercise: Writing a distance function\n",
    "Now suppose you wanted to measure how the O-H bond length changes over the course of the simluation.  You would need to use the distance formula a bunch of times.  Rather than copying and pasting your code, write a function called `distance` that calculate the distance between two atoms.  Make the input of your function two lists of the atomic coordinates and the return the distance between the points.  Check your function by calculating the distance the oxygen atom moved during the optimization and comparing to your manual calculation above."
   ]
  },
  {
   "cell_type": "code",
   "execution_count": 11,
   "metadata": {},
   "outputs": [],
   "source": [
    "# write a function to find the distance between two atoms\n",
    "def distance(atom1,atom2):\n",
    "    #Fill in tthe function here\n",
    "    deltax = atom1[0] - atom2[0]\n",
    "    deltay = atom1[1] - atom2[1]\n",
    "    deltaz = atom1[2] - atom2[2]\n",
    "    d = (deltax**2 + deltay**2 + deltaz**2)**(0.5)\n",
    "    return d"
   ]
  },
  {
   "cell_type": "code",
   "execution_count": 12,
   "metadata": {},
   "outputs": [
    {
     "name": "stdout",
     "output_type": "stream",
     "text": [
      "0.02130345949017131\n"
     ]
    }
   ],
   "source": [
    "dist_oxy = distance(data.atomcoords[-1][0], data.atomcoords[0][0])\n",
    "print(dist_oxy)"
   ]
  },
  {
   "cell_type": "markdown",
   "metadata": {},
   "source": [
    "Now to track the O-H distance across the simulation, we need to write a for loop that counts over the frames and then use our distance formula to measure the distance between the oxygen (atom 0) and one of the hydrogen atoms."
   ]
  },
  {
   "cell_type": "code",
   "execution_count": 13,
   "metadata": {},
   "outputs": [
    {
     "name": "stdout",
     "output_type": "stream",
     "text": [
      "[1.1, 0.9870873267843467, 0.9708189508310623, 0.9521644501814082, 0.980718560334297, 0.969725640445507, 0.9689705878188803]\n"
     ]
    }
   ],
   "source": [
    "# how many geometry optimzation frames are there?  (includes starting geometry #0)\n",
    "num_frames = len(data.atomcoords)\n",
    "# Blank list to store the distances\n",
    "OHdistances = []\n",
    "for frame in range(0,num_frames):\n",
    "    OHdist = distance(data.atomcoords[frame][0], data.atomcoords[frame][1])\n",
    "    OHdistances.append(OHdist)\n",
    "print(OHdistances)"
   ]
  },
  {
   "cell_type": "markdown",
   "metadata": {},
   "source": [
    "### Exercise\n",
    "Plot the bond distance as a function of geometry optimization step."
   ]
  },
  {
   "cell_type": "code",
   "execution_count": 16,
   "metadata": {},
   "outputs": [
    {
     "data": {
      "image/png": "[encoded data removed]",
      "text/plain": [
       "<Figure size 640x480 with 1 Axes>"
      ]
     },
     "metadata": {},
     "output_type": "display_data"
    }
   ],
   "source": [
    "# Your code goes here\n",
    "# Make a graph\n",
    "plt.plot(OHdistances)\n",
    "plt.xlabel(\"Step\")\n",
    "plt.ylabel(\"O-H distance / A\")\n",
    "plt.title(\"Geometry Optimization\")\n",
    "plt.grid(True)\n",
    "plt.show()"
   ]
  },
  {
   "cell_type": "code",
   "execution_count": null,
   "metadata": {},
   "outputs": [],
   "source": [
    "# Maybe take this out?\n",
    "\n",
    "# compute angle between H-O-H using law of cosines\n",
    "from math import acos\n",
    "def angle(atom1,atom2,atom3):\n",
    "    a = distance(atom1,atom2)\n",
    "    b = distance(atom3,atom2)\n",
    "    c = distance(atom1,atom3)\n",
    "    \n",
    "    cosTheta = (a**2 + b**2 - c**2) / (2*a*b)\n",
    "    theta = acos(cosTheta)\n",
    "    return theta * 360 / (2*3.14159)\n",
    "    \n",
    "    "
   ]
  },
  {
   "cell_type": "code",
   "execution_count": null,
   "metadata": {},
   "outputs": [],
   "source": [
    "# Maybe take this out?\n",
    "\n",
    "# calculate H-O-H bond bond angle (initial)\n",
    "# remember:  atom 0 is O, atom 1 is H, and atom 2 is H\n",
    "frame = 0\n",
    "angle(data.atomcoords[frame][1], data.atomcoords[frame][0], data.atomcoords[frame][2])"
   ]
  },
  {
   "cell_type": "code",
   "execution_count": null,
   "metadata": {},
   "outputs": [],
   "source": [
    "# Maybe take this out?\n",
    "\n",
    "# HOH bond angle as the geometry converges\n",
    "HOHangles = []\n",
    "for frame in range(0,len(data.atomcoords)):\n",
    "    HOHangles.append(angle(data.atomcoords[frame][1], data.atomcoords[frame][0], data.atomcoords[frame][2]))\n",
    "plt.plot(HOHangles)\n",
    "plt.xlabel(\"Step\")\n",
    "plt.ylabel(\"H-O-H bond angle / degrees\")\n",
    "plt.title(\"Geometry Optimization\")\n",
    "plt.grid(True)\n",
    "plt.show()"
   ]
  },
  {
   "cell_type": "markdown",
   "metadata": {},
   "source": [
    "We can also use `cclib` to get theromdynamic quantities like the ethalpy and the entropy.  Consult the cclib documentation[https://cclib.github.io/data.html] for the units for each quantity."
   ]
  },
  {
   "cell_type": "code",
   "execution_count": 21,
   "metadata": {},
   "outputs": [
    {
     "name": "stdout",
     "output_type": "stream",
     "text": [
      "The enthalpy of water is -200448.79 and the entropy is 0.19 in kJ/mole.\n"
     ]
    }
   ],
   "source": [
    "#enthalpy (hartree / particle)\n",
    "#entropy (hartree/(particle kelvin)\n",
    "# 1 h = 2625.5 kJ/mol   https://cccbdb.nist.gov/hartreex.asp\n",
    "h2o_enthalpy =  data.enthalpy * 2625.5\n",
    "h2o_entropy = data.entropy * 2625.5\n",
    "print(f'The enthalpy of water is {h2o_enthalpy:.2f} and the entropy is {h2o_entropy:.2f} in kJ/mole.')\n"
   ]
  },
  {
   "cell_type": "markdown",
   "metadata": {},
   "source": [
    "We can also access information about the IR spectra.  We will, of course, have an intensity for each frequency."
   ]
  },
  {
   "cell_type": "code",
   "execution_count": 22,
   "metadata": {},
   "outputs": [
    {
     "name": "stdout",
     "output_type": "stream",
     "text": [
      "[1712.5  3724.8  3846.75]\n",
      "[75.62166075  1.64414205 19.12503555]\n"
     ]
    }
   ],
   "source": [
    "# IR frequencies (cm^-1)\n",
    "print(data.vibfreqs)\n",
    "# IR intensities (km / mol)\n",
    "print (data.vibirs)"
   ]
  },
  {
   "cell_type": "markdown",
   "metadata": {},
   "source": [
    "To plot an IR spectra, we need to plot a vertical line for each IR frequency where the height of the line corresponds to the calcualted intensity.  Note that this doesn't look exactly like an experimental IR spectra because there is no line broadening; we will discuss this more later.\n",
    "\n",
    "To make a vertical line plot, we use a function from matplotlib called `plt.vlines()`.  The syntax for using this function is `plt.vlines(x, ymin, ymax)`"
   ]
  },
  {
   "cell_type": "code",
   "execution_count": 27,
   "metadata": {},
   "outputs": [
    {
     "data": {
      "image/png": "[encoded data removed]",
      "text/plain": [
       "<Figure size 640x480 with 1 Axes>"
      ]
     },
     "metadata": {},
     "output_type": "display_data"
    }
   ],
   "source": [
    "# plot IR spectra (no linewidth from GAMESS, just infinitely thin lines)\n",
    "num_freqs = len(data.vibfreqs)\n",
    "for i in range(num_freqs):\n",
    "    freq = data.vibfreqs[i]\n",
    "    inten = data.vibirs[i]\n",
    "    plt.vlines(freq,0,inten)\n"
   ]
  },
  {
   "cell_type": "code",
   "execution_count": null,
   "metadata": {},
   "outputs": [],
   "source": [
    "# this is not working\n",
    "# animate vibrations\n",
    "view1.script(\"frame last; vibration on;\")\n",
    "# scroll up to the JSmol window"
   ]
  },
  {
   "cell_type": "markdown",
   "metadata": {},
   "source": [
    "### Exercise\n",
    "You can access the molecular orbital energies from the data object using the syntax `data.noenergies[0]`.  (The 0 is there because the output is an array and the energies are element 0 of that array.)  There is another matplotlib function to plot horizontal lines called `plt.hlines`.  Make an MO orbital diagram where you plot a horizontal line for each MO energy level.  If you need help figuring out the inputs of the `plt.hlines` function you can google it or use the `help()` function.  "
   ]
  },
  {
   "cell_type": "code",
   "execution_count": 31,
   "metadata": {},
   "outputs": [
    {
     "name": "stdout",
     "output_type": "stream",
     "text": [
      "[-520.67896838  -27.05355902  -13.97304622  -10.03283767   -7.82871548\n",
      "    1.78506686    4.11164028   21.10787138   23.51335782   24.33242051\n",
      "   24.44670833   29.08897062   32.56658563   47.14644574   47.61992384]\n"
     ]
    },
    {
     "data": {
      "image/png": "[encoded data removed]",
      "text/plain": [
       "<Figure size 640x480 with 1 Axes>"
      ]
     },
     "metadata": {},
     "output_type": "display_data"
    }
   ],
   "source": [
    "# Your code goes here\n",
    "\n",
    "# Get the MO energies\n",
    "moenergy_list = data.moenergies[0]\n",
    "print(moenergy_list)\n",
    "for energy in moenergy_list:\n",
    "    plt.hlines(energy, 0, 1)\n",
    "plt.title(\"MO Energy diagram\")\n",
    "plt.ylabel(\"MO Energy / h\")\n",
    "plt.xticks([])\n",
    "plt.show()"
   ]
  },
  {
   "cell_type": "code",
   "execution_count": null,
   "metadata": {},
   "outputs": [],
   "source": [
    "\n",
    "    "
   ]
  },
  {
   "cell_type": "code",
   "execution_count": null,
   "metadata": {},
   "outputs": [],
   "source": []
  }
 ],
 "metadata": {
  "kernelspec": {
   "display_name": "Python 3 (ipykernel)",
   "language": "python",
   "name": "python3"
  },
  "language_info": {
   "codemirror_mode": {
    "name": "ipython",
    "version": 3
   },
   "file_extension": ".py",
   "mimetype": "text/x-python",
   "name": "python",
   "nbconvert_exporter": "python",
   "pygments_lexer": "ipython3",
   "version": "3.11.9"
  }
 },
 "nbformat": 4,
 "nbformat_minor": 4
}
