{
 "cells": [
  {
   "cell_type": "markdown",
   "metadata": {},
   "source": [
    "# Processing excitation data\n",
    "## Load libraries and data"
   ]
  },
  {
   "cell_type": "code",
   "execution_count": null,
   "metadata": {},
   "outputs": [],
   "source": [
    "# Cell 1: Import Libraries\n",
    "\n",
    "from chemcompute import chemcompute\n",
    "from jupyter_jsmol import JsmolView\n",
    "import numpy as np\n",
    "import matplotlib.pyplot as plt"
   ]
  },
  {
   "cell_type": "code",
   "execution_count": null,
   "metadata": {},
   "outputs": [],
   "source": [
    "# Cell 2: Download and view output structure from ChemCompute\n",
    "\n",
    "job = chemcompute.download(1217373)\n",
    "view1 = JsmolView.from_file(job, inline=True) \n",
    "view1"
   ]
  },
  {
   "cell_type": "code",
   "execution_count": null,
   "metadata": {},
   "outputs": [],
   "source": [
    "# Cell 3: parse output and check values\n",
    "\n",
    "data = chemcompute.parse(job)\n",
    "print (\"SCF Energy (eV)\\n\", data.scfenergies)       # SCF energies (eV)\n",
    "print (\"Excitation Energies (cm^-1)\\n\", data.etenergies) # excitation energies (inverse cm)\n",
    "print (\"Oscillator Strength\\n\",data.etoscs)     # oscillator strength (unitless)"
   ]
  },
  {
   "cell_type": "code",
   "execution_count": null,
   "metadata": {},
   "outputs": [],
   "source": [
    "# Cell 4: Convert excitation energies to eV\n",
    "\n",
    "eVenergies=data.etenergies*1.23981*10**-4\n",
    "print (eVenergies)"
   ]
  },
  {
   "cell_type": "markdown",
   "metadata": {},
   "source": [
    "# Exercise: Convert energies to nm\n"
   ]
  },
  {
   "cell_type": "code",
   "execution_count": null,
   "metadata": {},
   "outputs": [],
   "source": []
  },
  {
   "cell_type": "markdown",
   "metadata": {},
   "source": [
    "# Define function that performs convolution\n",
    "Definition of convolution for two functions f and g\n",
    "$$\n",
    "(f*g)(t):=\\int _{-\\infty }^{\\infty }f(\\tau )g(t-\\tau )\\,d\\tau\n",
    "$$\n",
    "In this case we first generate a weighted histogram of the excitation energy data and then convolute this function with a Gaussian using the `numpy` function `convolve`.\n",
    "Note that this function expects energies in nm"
   ]
  },
  {
   "cell_type": "code",
   "execution_count": null,
   "metadata": {},
   "outputs": [],
   "source": [
    "####################################################################################\n",
    "#                                                                                  #\n",
    "#    convolute(energy, intensity, fwhm)                                            #\n",
    "#                                                                                  #\n",
    "#          Function that sums up gaussian contributions to each point and forms    #\n",
    "#          into a spectrum (histogram)                                             #\n",
    "#                                                                                  #\n",
    "#          inputs:  energy     = List of excitation energies in nm                 #\n",
    "#                   intensity  = List of oscillator strengths from output          #\n",
    "#                   fwhm       = The full width of the added gaussian halfway      #\n",
    "#                                to the maximum of the peak in nm                  # \n",
    "#                                                                                  #\n",
    "#          outputs: ene        = energy values for plotting convoluted spectrum    #\n",
    "#                   datawithgaussians = Convoluted spectrum                        #\n",
    "#                                                                                  #\n",
    "####################################################################################\n",
    "\n",
    "def convolute(energy,intensity,fwhm):\n",
    "\n",
    "# width of gaussian (standard deviation) based on user input width\n",
    "# width is full width at half the maximum (fwhm) of the peak\n",
    "  sigma = fwhm/(2*np.sqrt(2*np.log(2)))\t\n",
    "  gwidth = sigma*sigma \n",
    "\n",
    "# determine range of spectrum to consider\n",
    "# lowest and highest energies in output file\n",
    "  mini = min(energy)\n",
    "  maxi = max(energy)\n",
    "\n",
    "# increase range of output by 4*sigma so plot does not cut off sharply unless at 0\n",
    "  mini = max(mini-4*sigma,0)\n",
    "  maxi = maxi + 4*sigma\n",
    "\n",
    "# set the number of bins to used in the histogram\n",
    "  numbins = 1000\n",
    "  delta = (maxi - mini)/numbins\n",
    "\n",
    "# form Gaussian to be used in convolution (centered at 0)\n",
    "  gx=np.arange(-4*sigma,4*sigma,delta)\n",
    "  gaussian=np.exp(-0.5*(gx*gx)/gwidth)\n",
    "\n",
    "# Sum and print out total oscillator strength. \n",
    "# This should be lower than the total number of electrons based on the TKR sum rules\n",
    "  total = 0\n",
    "  for d in range(len(intensity)): \n",
    "     total += intensity[d] \n",
    "\n",
    "  print(\"Total Oscillator Strength:\", total)\n",
    "  print(f\"Energy Range (nm): {mini:.5}, {maxi:.5}\")\n",
    "\n",
    "# Transform calculated data into a histogram with discritized axis\n",
    "  calcvals=np.histogram(energy,bins=numbins,range=(mini,maxi), weights=intensity)\n",
    "\n",
    "# histogram forms energy values as edges of bins, convert to midpoint for plotting as x values\n",
    "  etemp=calcvals[1]\n",
    "  ene=[]\n",
    "  for i in range(len(etemp)-1):\n",
    "      ene.append((etemp[i]+etemp[i+1])/2)\n",
    "    \n",
    "# Convolute calculated data with gaussian \n",
    "  datawithgaussians=np.convolve(calcvals[0], gaussian, mode=\"same\")\n",
    "\n",
    "    \n",
    "  return ene,datawithgaussians"
   ]
  },
  {
   "cell_type": "code",
   "execution_count": null,
   "metadata": {
    "scrolled": true
   },
   "outputs": [],
   "source": [
    "# Run convolution function using energies in nm, oscillator strenghts and FWHM of 10 nm for the Gaussian Function\n",
    "\n",
    "energies,convdata=convolute(nmenergies,data.etoscs,10)"
   ]
  },
  {
   "cell_type": "code",
   "execution_count": null,
   "metadata": {
    "scrolled": true
   },
   "outputs": [],
   "source": [
    "# Plot broadened spectrum\n",
    "\n",
    "plt.plot(energies,convdata)              #plot convoluted spectrum\n",
    "plt.plot(nmenergies,data.etoscs,\".\")     #plot original oscillator strength vs. energy values\n",
    "plt.ylabel(\"Oscillator strength\")        #y axis title\n",
    "plt.xlabel(\"Energies\")                   #x axis title\n",
    "plt.title('Optical Excitation Spectrum') #plot title\n",
    "plt.show()"
   ]
  },
  {
   "cell_type": "markdown",
   "metadata": {},
   "source": [
    "# Exercise: Explore convolution\n",
    "\n",
    "1. Import data from one of your TD-DFT calculations\n",
    "2. Convert excitation energies to nm\n",
    "3. Convolute the spectrum using different values for the FWHM. What is the effect of increasing the FWHM?\n",
    "4. Plot the convoluted spectrum with the corresponding experimental spectrum. "
   ]
  },
  {
   "cell_type": "code",
   "execution_count": null,
   "metadata": {},
   "outputs": [],
   "source": []
  }
 ],
 "metadata": {
  "kernelspec": {
   "display_name": "Python 3 (ipykernel)",
   "language": "python",
   "name": "python3"
  },
  "language_info": {
   "codemirror_mode": {
    "name": "ipython",
    "version": 3
   },
   "file_extension": ".py",
   "mimetype": "text/x-python",
   "name": "python",
   "nbconvert_exporter": "python",
   "pygments_lexer": "ipython3",
   "version": "3.11.9"
  }
 },
 "nbformat": 4,
 "nbformat_minor": 4
}
